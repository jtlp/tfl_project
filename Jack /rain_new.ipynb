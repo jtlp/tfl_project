{
 "cells": [
  {
   "cell_type": "code",
   "execution_count": 6,
   "metadata": {},
   "outputs": [],
   "source": [
    "import pickle as pkl\n",
    "import pandas as pd\n",
    "\n",
    "import matplotlib.pyplot as plt\n",
    "\n",
    "# Global options\n",
    "datapath = '../Data/'\n",
    "\n",
    "# usage data\n",
    "\n",
    "all_data = []\n",
    "\n",
    "#years = [2012, 2013, 2014, 2015, 2016]\n",
    "\n",
    "# Subset for testing purposes - comment out in final\n",
    "years = [2016]\n",
    "\n",
    "\n",
    "for year in years:\n",
    "    fname = datapath + 'usage_data{:}.pkl'.format(year)\n",
    "    with open(fname, 'rb') as handle:   \n",
    "        all_data.append(pkl.load(handle))\n",
    "        \n",
    "# All data\n",
    "with open(datapath+'all_data.pkl', 'rb') as handle:\n",
    "    all_data = pkl.load(handle)\n",
    "\n",
    "#all_data = pd.concat(all_data)\n",
    "\n",
    "# Take the first 1m rows\n",
    "#all_data = all_data.iloc[:1000000]\n",
    "\n",
    "# All data\n",
    "with open(datapath+'all_locs.pkl', 'rb') as handle:\n",
    "    locations = pkl.load(handle)\n",
    "    \n",
    "locations = locations.set_index('id')\n",
    "\n",
    "with open(datapath+'station_id_to_cluster_id.pkl', 'rb') as handle:\n",
    "    IDMap = pkl.load(handle)\n",
    "    \n",
    "with open(datapath+'clustered_locs.pkl', 'rb') as handle:\n",
    "    clusteredLocs = pkl.load(handle)"
   ]
  },
  {
   "cell_type": "code",
   "execution_count": 17,
   "metadata": {},
   "outputs": [],
   "source": [
    "# Get average traffic by day\n",
    "traffic = []\n",
    "days = ['M' 'Tu', 'W', 'Th', 'F','Sa']\n",
    "for i, day in enumerate(days):\n",
    "    traffic.append(len(all_data[all_data['Start Date'].dt.dayofweek == i]))\n"
   ]
  },
  {
   "cell_type": "code",
   "execution_count": 18,
   "metadata": {
    "scrolled": true
   },
   "outputs": [
    {
     "data": {
      "text/plain": [
       "[<matplotlib.lines.Line2D at 0x7f0692d93358>]"
      ]
     },
     "execution_count": 18,
     "metadata": {},
     "output_type": "execute_result"
    },
    {
     "data": {
      "image/png": "[encoded data removed]",
      "text/plain": [
       "<Figure size 432x288 with 1 Axes>"
      ]
     },
     "metadata": {},
     "output_type": "display_data"
    }
   ],
   "source": [
    "plt.plot(traffic)\n"
   ]
  },
  {
   "cell_type": "code",
   "execution_count": null,
   "metadata": {},
   "outputs": [],
   "source": []
  }
 ],
 "metadata": {
  "kernelspec": {
   "display_name": "Python [conda env:Python3]",
   "language": "python",
   "name": "conda-env-Python3-py"
  },
  "language_info": {
   "codemirror_mode": {
    "name": "ipython",
    "version": 3
   },
   "file_extension": ".py",
   "mimetype": "text/x-python",
   "name": "python",
   "nbconvert_exporter": "python",
   "pygments_lexer": "ipython3",
   "version": "3.6.5"
  }
 },
 "nbformat": 4,
 "nbformat_minor": 2
}
