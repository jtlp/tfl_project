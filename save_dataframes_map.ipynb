{
 "cells": [
  {
   "cell_type": "markdown",
   "metadata": {},
   "source": [
    "# Import usage stats"
   ]
  },
  {
   "cell_type": "code",
   "execution_count": 22,
   "metadata": {},
   "outputs": [
    {
     "name": "stdout",
     "output_type": "stream",
     "text": [
      "(10216388, 15)\n",
      "(9882294, 15)\n",
      "(9882294, 5)\n",
      "(9302479, 5)\n"
     ]
    },
    {
     "name": "stderr",
     "output_type": "stream",
     "text": [
      "//anaconda/envs/py35/lib/python3.5/site-packages/ipykernel_launcher.py:14: DtypeWarning: Columns (3,5,6,8) have mixed types. Specify dtype option on import or set low_memory=False.\n",
      "  \n"
     ]
    },
    {
     "name": "stdout",
     "output_type": "stream",
     "text": [
      "(11481596, 12)\n",
      "(10242351, 12)\n",
      "(10242351, 5)\n",
      "(9681802, 5)\n",
      "(8042370, 9)\n",
      "(8026318, 9)\n",
      "(8026318, 5)\n",
      "(7969749, 5)\n"
     ]
    }
   ],
   "source": [
    "import pandas as pd\n",
    "import glob\n",
    "import re\n",
    "import pickle as pkl\n",
    "\n",
    "dirs = glob.glob('./usage_stats/*')\n",
    "\n",
    "def get_numbers_from_filename(filename):\n",
    "    return re.search(r'\\d+', filename).group(0)\n",
    "\n",
    "for dirname in dirs:\n",
    "    fname_list = glob.glob(dirname + '/*.csv')    \n",
    "    dfs = (pd.read_csv(fname, encoding = \"ISO-8859-1\") for fname in fname_list)\n",
    "    all_data = pd.concat(dfs, ignore_index=True)\n",
    "    \n",
    "    ## Clean data - NAs, and start/end being the same station, drop additional useless columns\n",
    "\n",
    "    print(all_data.shape)\n",
    "\n",
    "    all_data.dropna(axis=0, subset=[\"StartStation Id\", \"EndStation Id\", \"Start Date\", \"End Date\"], inplace=True)\n",
    "\n",
    "    print(all_data.shape)\n",
    "\n",
    "    all_data[\"EndStation Id\"] = pd.to_numeric(all_data[\"EndStation Id\"], errors='coerce')\n",
    "    all_data[\"StartStation Id\"] = pd.to_numeric(all_data[\"StartStation Id\"], errors='coerce')\n",
    "\n",
    "    #all_data = all_data[all_data[\"StartStation Id\"] != all_data[\"EndStation Id\"]]\n",
    "\n",
    "    all_data = all_data.loc[:,('Start Date',\n",
    "                               'StartStation Id',\n",
    "                               'End Date',\n",
    "                               'EndStation Id',\n",
    "                               'Duration')]\n",
    "\n",
    "    print(all_data.shape)\n",
    "\n",
    "    ## Extra drop for duplicates\n",
    "\n",
    "    all_data.drop_duplicates(inplace=True)\n",
    "    print(all_data.shape)\n",
    "\n",
    "    all_data.head()\n",
    "    \n",
    "    fname_out = get_numbers_from_filename(dirname)\n",
    "    fname_out = 'usage_data' + fname_out[0:4] + '.pkl'\n",
    "    with open(fname_out, 'wb') as handle:\n",
    "        pkl.dump(all_data, handle, protocol=pkl.HIGHEST_PROTOCOL)\n",
    "    "
   ]
  },
  {
   "cell_type": "markdown",
   "metadata": {},
   "source": [
    "# Getting the bike station locations\n",
    "\n",
    "TfL have a live \"cycle hire updates\" feed which lists information for each cycle hire station, updated once every minute or so. I don't utilise this live data - instead I just take the name, ID, lat/lon, and capacity for each bike station."
   ]
  },
  {
   "cell_type": "code",
   "execution_count": 21,
   "metadata": {},
   "outputs": [
    {
     "name": "stdout",
     "output_type": "stream",
     "text": [
      "(781, 5)\n"
     ]
    },
    {
     "data": {
      "text/html": [
       "<div>\n",
       "<style>\n",
       "    .dataframe thead tr:only-child th {\n",
       "        text-align: right;\n",
       "    }\n",
       "\n",
       "    .dataframe thead th {\n",
       "        text-align: left;\n",
       "    }\n",
       "\n",
       "    .dataframe tbody tr th {\n",
       "        vertical-align: top;\n",
       "    }\n",
       "</style>\n",
       "<table border=\"1\" class=\"dataframe\">\n",
       "  <thead>\n",
       "    <tr style=\"text-align: right;\">\n",
       "      <th></th>\n",
       "      <th>name</th>\n",
       "      <th>id</th>\n",
       "      <th>lat</th>\n",
       "      <th>lon</th>\n",
       "      <th>capacity</th>\n",
       "    </tr>\n",
       "  </thead>\n",
       "  <tbody>\n",
       "    <tr>\n",
       "      <th>0</th>\n",
       "      <td>River Street , Clerkenwell</td>\n",
       "      <td>1</td>\n",
       "      <td>51.529163</td>\n",
       "      <td>-0.109971</td>\n",
       "      <td>19</td>\n",
       "    </tr>\n",
       "    <tr>\n",
       "      <th>1</th>\n",
       "      <td>Phillimore Gardens, Kensington</td>\n",
       "      <td>2</td>\n",
       "      <td>51.499607</td>\n",
       "      <td>-0.197574</td>\n",
       "      <td>37</td>\n",
       "    </tr>\n",
       "    <tr>\n",
       "      <th>2</th>\n",
       "      <td>Christopher Street, Liverpool Street</td>\n",
       "      <td>3</td>\n",
       "      <td>51.521284</td>\n",
       "      <td>-0.084606</td>\n",
       "      <td>32</td>\n",
       "    </tr>\n",
       "    <tr>\n",
       "      <th>3</th>\n",
       "      <td>St. Chad's Street, King's Cross</td>\n",
       "      <td>4</td>\n",
       "      <td>51.530059</td>\n",
       "      <td>-0.120974</td>\n",
       "      <td>23</td>\n",
       "    </tr>\n",
       "    <tr>\n",
       "      <th>4</th>\n",
       "      <td>Sedding Street, Sloane Square</td>\n",
       "      <td>5</td>\n",
       "      <td>51.493130</td>\n",
       "      <td>-0.156876</td>\n",
       "      <td>27</td>\n",
       "    </tr>\n",
       "  </tbody>\n",
       "</table>\n",
       "</div>"
      ],
      "text/plain": [
       "                                   name  id        lat       lon  capacity\n",
       "0            River Street , Clerkenwell   1  51.529163 -0.109971        19\n",
       "1        Phillimore Gardens, Kensington   2  51.499607 -0.197574        37\n",
       "2  Christopher Street, Liverpool Street   3  51.521284 -0.084606        32\n",
       "3       St. Chad's Street, King's Cross   4  51.530059 -0.120974        23\n",
       "4         Sedding Street, Sloane Square   5  51.493130 -0.156876        27"
      ]
     },
     "execution_count": 21,
     "metadata": {},
     "output_type": "execute_result"
    }
   ],
   "source": [
    "import requests\n",
    "from xml.etree import ElementTree as ET\n",
    "import pandas as pd\n",
    "\n",
    "site = \"https://tfl.gov.uk/tfl/syndication/feeds/cycle-hire/livecyclehireupdates.xml\"\n",
    "\n",
    "response = requests.get(site)\n",
    "root = ET.fromstring(response.content)\n",
    "\n",
    "id_list = [int(root[i][0].text) for i in range(0, len(root))]\n",
    "name_list = [root[i][1].text for i in range(0, len(root))]\n",
    "lat_list = [float(root[i][3].text) for i in range(0, len(root))]\n",
    "lon_list = [float(root[i][4].text) for i in range(0, len(root))]\n",
    "capacity_list = [int(root[i][12].text) for i in range(0, len(root))]\n",
    "\n",
    "all_locs = pd.DataFrame(list(zip(name_list, id_list, lat_list, \n",
    "                                 lon_list, capacity_list)), columns = [\"name\",\"id\",\"lat\",\"lon\",\"capacity\"])\n",
    "\n",
    "all_locs.to_csv('bike_point_locations_saved.csv', header=True, index=None)\n",
    "\n",
    "fname_out = 'all_locs.pkl' \n",
    "with open(fname_out, 'wb') as handle:\n",
    "    pkl.dump(all_locs, handle, protocol=pkl.HIGHEST_PROTOCOL)\n",
    "\n",
    "print(all_locs.shape)\n",
    "all_locs.head()"
   ]
  },
  {
   "cell_type": "code",
   "execution_count": null,
   "metadata": {
    "collapsed": true
   },
   "outputs": [],
   "source": []
  }
 ],
 "metadata": {
  "kernelspec": {
   "display_name": "Python 3",
   "language": "python",
   "name": "python3"
  },
  "language_info": {
   "codemirror_mode": {
    "name": "ipython",
    "version": 3
   },
   "file_extension": ".py",
   "mimetype": "text/x-python",
   "name": "python",
   "nbconvert_exporter": "python",
   "pygments_lexer": "ipython3",
   "version": "3.5.4"
  }
 },
 "nbformat": 4,
 "nbformat_minor": 2
}
